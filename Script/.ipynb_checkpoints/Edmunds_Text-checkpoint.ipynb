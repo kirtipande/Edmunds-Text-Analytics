{
 "cells": [
  {
   "cell_type": "markdown",
   "metadata": {},
   "source": [
    "# Assignment 2 - Edmund's forum\n",
    "### Names : Anisha Garg, Catherine McNabb, Cuiting Zhong, Lining Jiang, Kirti Pande "
   ]
  },
  {
   "cell_type": "markdown",
   "metadata": {},
   "source": [
    "## 1.\n",
    "#### Develop a crawler/scraper using Selenium to fetch messages posted in Edmunds.com discussion forums. The crawler output should be a .csv file with the following columns: date, userid, and message (even though you will only use the messages in your analysis). Before you develop the crawler, carefully study one of the forums on Edmunds.com to understand the html as well as the threading structures. "
   ]
  },
  {
   "cell_type": "code",
   "execution_count": null,
   "metadata": {},
   "outputs": [],
   "source": [
    "#Creating  webdriver instance for scrapper\n",
    "from selenium import webdriver\n",
    "chrome_path = r'C:\\Users\\kirti\\Downloads\\chromedriver_win32\\chromedriver.exe'"
   ]
  },
  {
   "cell_type": "code",
   "execution_count": 2,
   "metadata": {},
   "outputs": [],
   "source": [
    "#Opeining chrome\n",
    "driver = webdriver.Chrome(chrome_path)"
   ]
  },
  {
   "cell_type": "code",
   "execution_count": 6,
   "metadata": {},
   "outputs": [],
   "source": [
    "#Going to the website in chrome\n",
    "driver.get(\"https://forums.edmunds.com/categories/jaguar\")"
   ]
  },
  {
   "cell_type": "code",
   "execution_count": 7,
   "metadata": {},
   "outputs": [],
   "source": [
    "#For the first Question we have decided to go to the below link,scrape the website and store it in a csv file\n",
    "python_button = driver.find_element_by_link_text(\"2018 Jaguar F-Type Lease Deals and Prices\")\n",
    "python_button.click()"
   ]
  },
  {
   "cell_type": "code",
   "execution_count": 8,
   "metadata": {},
   "outputs": [],
   "source": [
    "#Using Beautiful Soup to get rid of blockQuotes\n",
    "from bs4 import BeautifulSoup\n",
    "cleantext = []\n",
    "def readposts():\n",
    "    soup = BeautifulSoup(driver.page_source, \"html.parser\")\n",
    "    text = soup.find_all('div',{'class':'Message userContent'})\n",
    "    for t in text:\n",
    "        if t.find('blockquote'):\n",
    "            try:\n",
    "                cleantext.append(t.contents[2].strip())\n",
    "            except:\n",
    "                cleantext.append(u\"\")\n",
    "        else:\n",
    "            cleantext.append(t.contents[0].strip()) \n",
    "    return cleantext"
   ]
  },
  {
   "cell_type": "code",
   "execution_count": 9,
   "metadata": {},
   "outputs": [],
   "source": [
    "import pandas as pd\n",
    "d = {'date': [], 'userid': [], 'message': []}\n",
    "df_old = pd.DataFrame(data=d)\n",
    "df_new = pd.DataFrame(data=d)\n",
    "def extract2():\n",
    "    df = pd.DataFrame(data=d)\n",
    "    user = driver.find_elements_by_class_name('Author')\n",
    "    date = driver.find_elements_by_css_selector('.MItem.DateCreated') \n",
    "    posts = readposts()\n",
    "    length = len(user)\n",
    "    for i in range(length):\n",
    "        df.loc[i] = [date[i].text,user[i].text,posts[i]]\n",
    "    df = df.replace('\\n',' ', regex=True)\n",
    "    return df"
   ]
  },
  {
   "cell_type": "code",
   "execution_count": 10,
   "metadata": {},
   "outputs": [],
   "source": [
    "for i in range(7):\n",
    "    xpath = '//*[@id=\"PagerBefore\"]/a[{0}]'.format(str(i+2))\n",
    "    driver.find_element_by_xpath(xpath).click()\n",
    "    df_new = extract2()\n",
    "    df_old = pd.concat([df_old,df_new]).reset_index(drop=True)"
   ]
  },
  {
   "cell_type": "code",
   "execution_count": 11,
   "metadata": {},
   "outputs": [],
   "source": [
    "df_old[df_old[\"message\"] == \"\"] = 0\n",
    "df_old = df_old[df_old['message'] != 0]"
   ]
  },
  {
   "cell_type": "code",
   "execution_count": 9,
   "metadata": {},
   "outputs": [],
   "source": [
    "df_old.to_csv(r'C:\\Users\\kirti\\Downloads\\MSBA\\Text_Analytics\\Assignment_2\\ta2Q1.csv')"
   ]
  },
  {
   "cell_type": "markdown",
   "metadata": {},
   "source": [
    "## 2.\n",
    "#### Fetch around 5,000 posts about cars from a General topics forum. Do NOT choose a forum dedicated to a particular brand or model. Instead, you can choose the General & Sedans categories and then select, for example, the Entry Level Luxury forum https://forums.edmunds.com/discussion/2864/general/x/entry-level-luxury-performance-sedans .The idea is to have multiple brands and models being discussed without one of them being the focal point\n",
    "\n",
    "##### We are using the url : https://forums.edmunds.com/discussion/2864/general/x/entry-level-luxury-performance-sedans\n"
   ]
  },
  {
   "cell_type": "code",
   "execution_count": 16,
   "metadata": {},
   "outputs": [],
   "source": [
    "# Create a new instance and go to the url mentioned above\n",
    "driver = webdriver.Chrome(chrome_path)\n",
    "driver.get(\"https://forums.edmunds.com/discussion/2864/general/x/entry-level-luxury-performance-sedans\")"
   ]
  },
  {
   "cell_type": "code",
   "execution_count": 15,
   "metadata": {},
   "outputs": [],
   "source": [
    "#Scrapping the comments section to obtain posts from page 703 to 500\n",
    "d2 = {'posts': []}\n",
    "cleantext = []\n",
    "for i in range(703,500,-1):\n",
    "    cl = str(i)\n",
    "    driver.find_element_by_link_text(cl).click()\n",
    "    df_post = readposts()"
   ]
  },
  {
   "cell_type": "code",
   "execution_count": 17,
   "metadata": {},
   "outputs": [],
   "source": [
    "#Since we gotrid of blockquotes in the process; the empty entries after removing them are being filtered out\n",
    "length = len(df_post)\n",
    "df_o_post = list()\n",
    "for i in range(length):\n",
    "        if(df_post[i] !=''):\n",
    "            df_o_post.append(df_post[i])"
   ]
  },
  {
   "cell_type": "code",
   "execution_count": 18,
   "metadata": {},
   "outputs": [],
   "source": [
    "df_o_post = pd.Series(df_o_post)"
   ]
  },
  {
   "cell_type": "code",
   "execution_count": 19,
   "metadata": {},
   "outputs": [],
   "source": [
    "#Writing 6000 entries to be on a safer side \n",
    "df_o_post = pd.Series(df_o_post.iloc[:6000])\n",
    "df_o_post.to_csv(r'C:\\Users\\kirti\\Downloads\\MSBA\\Text_Analytics\\Assignment_2\\ta2Q2.csv')"
   ]
  },
  {
   "cell_type": "markdown",
   "metadata": {},
   "source": [
    "## 3.\n",
    "#### Once you fetch the data, find the top 10 brands from frequency counts. You will need to write a script to count the frequencies. Be sure not to count a mention more than once per post, even if it is mentioned multiple times. Replace models with brands so that from now on you have to deal with only brands and not models. You will need another script for this job. This step is meant to help simplify the analysis. A list of model and brand names (not exhaustive) are provided in a separate file.   "
   ]
  },
  {
   "cell_type": "code",
   "execution_count": 281,
   "metadata": {},
   "outputs": [],
   "source": [
    "import pandas as pd\n",
    "import re\n",
    "file_encoding = 'cp1252'\n",
    "df_posts=pd.read_csv(r'C:\\Users\\kirti\\Downloads\\MSBA\\Text_Analytics\\Assignment_2\\ta2Q2.csv',header=None)\n",
    "s_post=df_posts[1]\n",
    "s_post=s_post[s_post.notnull()]\n",
    "\n",
    "brand_model = pd.read_csv(r'C:\\Users\\kirti\\Downloads\\MSBA\\Text_Analytics\\Assignment_2\\models_new.csv',encoding=file_encoding)\n",
    "\n",
    "s_brand=brand_model['Brand'].map(lambda x:x.lower())\n",
    "s_brand=s_brand.map(lambda x:x.replace('.','').replace(',','').replace('-',' '))\n",
    "s_model=brand_model['Model'].map(lambda x:x.lower())\n",
    "s_model=s_model.map(lambda x:x.replace('?',''))"
   ]
  },
  {
   "cell_type": "code",
   "execution_count": 282,
   "metadata": {},
   "outputs": [],
   "source": [
    "import re\n",
    "s_post_converted=s_post.map(lambda x:x.lower())\n",
    "\n",
    "for i,m in enumerate(s_model):\n",
    "    s_post_converted=s_post_converted.map(lambda x:re.sub(str(m), s_brand[i],str(x)))"
   ]
  },
  {
   "cell_type": "code",
   "execution_count": 283,
   "metadata": {},
   "outputs": [
    {
     "data": {
      "text/plain": [
       "array(['acura', 'alfaromeo', 'audi', 'bentley', 'bmw', 'bugatti', 'buick',\n",
       "       'cadillac', 'chevrolet', 'chrysler', 'dodge', 'ford', 'gm',\n",
       "       'honda', 'hyundai', 'hyundai kia', 'infiniti', 'jaguar', 'kia',\n",
       "       'lamborghini', 'lexus', 'lincoln', 'mazda', 'mercedes', 'mercury',\n",
       "       'mitsubishi', 'nissan', 'pontiac', 'porsche', 'saab', 'saturn',\n",
       "       'skoda', 'subaru', 'suzuki', 'tesla', 'toyota', 'volkswagen',\n",
       "       'volvo'], dtype=object)"
      ]
     },
     "execution_count": 283,
     "metadata": {},
     "output_type": "execute_result"
    }
   ],
   "source": [
    "brands=s_brand.unique()\n",
    "brands"
   ]
  },
  {
   "cell_type": "code",
   "execution_count": 287,
   "metadata": {},
   "outputs": [],
   "source": [
    "brands_edited=['acura', 'alfaromeo', 'audi', 'bentley', 'bmw', 'bugatti', 'buick',\n",
    "       'cadillac', 'chevrolet', 'chrysler', 'dodge', 'ford', 'gm',\n",
    "       'honda', 'hyundai', 'hyundai kia', 'infiniti', 'jaguar', 'kia',\n",
    "       'lamborghini', 'lexus', 'lincoln', 'mazda', 'mercedes', 'mercury',\n",
    "       'mitsubishi', 'nissan', 'pontiac', 'porsche', 'saab', 'saturn',\n",
    "       'skoda', 'subaru', 'suzuki', 'tesla', 'toyota', 'volkswagen',\n",
    "       'volvo']"
   ]
  },
  {
   "cell_type": "code",
   "execution_count": 288,
   "metadata": {},
   "outputs": [],
   "source": [
    "brand_dict = dict(zip(brand_model.iloc[:,1], brand_model.iloc[:,0]))\n",
    "\n",
    "def repl(text):\n",
    "    words = text.lower().split()\n",
    "    final_string = ' '.join(str(brand_dict.get(word.strip('.,;!?'), word)) for word in words)\n",
    "    return final_string\n",
    "\n",
    "s_post_converted2 = s_post_converted.map(repl)\n",
    "\n",
    "def brand_in_it(brand,post):\n",
    "    if brand in post:\n",
    "        return 1\n",
    "    else: \n",
    "        return 0\n",
    "    \n",
    "temp={'post': s_post_converted}\n",
    "for brand in brands_edited:\n",
    "    temp[brand]=s_post_converted2.map(lambda x:brand_in_it(brand,x))"
   ]
  },
  {
   "cell_type": "code",
   "execution_count": 289,
   "metadata": {},
   "outputs": [
    {
     "name": "stdout",
     "output_type": "stream",
     "text": [
      "Top 10 brands: \n",
      " audi          1350\n",
      "bmw            927\n",
      "acura          865\n",
      "mercedes       590\n",
      "cadillac       310\n",
      "honda          223\n",
      "ford           204\n",
      "infiniti       161\n",
      "volkswagen     143\n",
      "lexus          131\n",
      "dtype: int64\n"
     ]
    }
   ],
   "source": [
    "#Top 10 brands from the frequency counts are as follows\n",
    "df2=pd.DataFrame(temp)\n",
    "s_A=df2.drop('post',axis=1).sum() #A/#B\n",
    "s_A = s_A.sort_values(ascending=False).head(10)\n",
    "print (\"Top 10 brands:\",'\\n', s_A)"
   ]
  },
  {
   "cell_type": "markdown",
   "metadata": {},
   "source": [
    "## Task A:\n",
    "#### Identify top 10 brands by frequency. From the posts, calculate lift ratios for associations between the brands. You will have to write a script to do this task). Show the brands on a multi-dimensional scaling (MDS) map (use a Python script for MDS, there are multiple scripts available on the Internet). "
   ]
  },
  {
   "cell_type": "code",
   "execution_count": 290,
   "metadata": {},
   "outputs": [
    {
     "data": {
      "text/plain": [
       "array(['audi', 'bmw', 'acura', 'mercedes', 'cadillac', 'honda', 'ford',\n",
       "       'infiniti', 'volkswagen', 'lexus'], dtype=object)"
      ]
     },
     "execution_count": 290,
     "metadata": {},
     "output_type": "execute_result"
    }
   ],
   "source": [
    "brands_edited_top_10 = s_A.index.values\n",
    "brands_edited_top_10"
   ]
  },
  {
   "cell_type": "code",
   "execution_count": 291,
   "metadata": {},
   "outputs": [],
   "source": [
    "#association of brand A and brand B\n",
    "def brandAB_in_it(brandA,brandB,post):\n",
    "    if brandA in post and brandB in post:\n",
    "        return 1\n",
    "    else: \n",
    "        return 0\n",
    "temp2={'post': s_post_converted}\n",
    "\n",
    "#Filterign for only the top 10 brands\n",
    "for brandA in brands_edited_top_10:\n",
    "    for brandB in brands_edited_top_10:\n",
    "        temp2[brandA+', '+brandB]=s_post_converted.map(lambda x:brandAB_in_it(brandA,brandB,x))"
   ]
  },
  {
   "cell_type": "code",
   "execution_count": 292,
   "metadata": {},
   "outputs": [],
   "source": [
    "df3=pd.DataFrame(temp2)\n",
    "df4=df3.drop('post',axis=1)"
   ]
  },
  {
   "cell_type": "code",
   "execution_count": 293,
   "metadata": {},
   "outputs": [],
   "source": [
    "m_AB=df4.sum().values.reshape([10,10])  #get the count of association\n",
    "df_AB=pd.DataFrame(m_AB)\n",
    "#setting the column name and index\n",
    "df_AB.columns=brands_edited_top_10\n",
    "df_AB=df_AB.set_index(pd.Series(brands_edited_top_10))"
   ]
  },
  {
   "cell_type": "code",
   "execution_count": 294,
   "metadata": {
    "scrolled": true
   },
   "outputs": [
    {
     "data": {
      "text/html": [
       "<div>\n",
       "<style scoped>\n",
       "    .dataframe tbody tr th:only-of-type {\n",
       "        vertical-align: middle;\n",
       "    }\n",
       "\n",
       "    .dataframe tbody tr th {\n",
       "        vertical-align: top;\n",
       "    }\n",
       "\n",
       "    .dataframe thead th {\n",
       "        text-align: right;\n",
       "    }\n",
       "</style>\n",
       "<table border=\"1\" class=\"dataframe\">\n",
       "  <thead>\n",
       "    <tr style=\"text-align: right;\">\n",
       "      <th></th>\n",
       "      <th>audi</th>\n",
       "      <th>bmw</th>\n",
       "      <th>acura</th>\n",
       "      <th>mercedes</th>\n",
       "      <th>cadillac</th>\n",
       "      <th>honda</th>\n",
       "      <th>ford</th>\n",
       "      <th>infiniti</th>\n",
       "      <th>volkswagen</th>\n",
       "      <th>lexus</th>\n",
       "    </tr>\n",
       "  </thead>\n",
       "  <tbody>\n",
       "    <tr>\n",
       "      <th>audi</th>\n",
       "      <td>3.380000</td>\n",
       "      <td>1.334498</td>\n",
       "      <td>1.355908</td>\n",
       "      <td>1.369186</td>\n",
       "      <td>1.482839</td>\n",
       "      <td>1.394439</td>\n",
       "      <td>1.192941</td>\n",
       "      <td>1.742484</td>\n",
       "      <td>1.654545</td>\n",
       "      <td>1.444885</td>\n",
       "    </tr>\n",
       "    <tr>\n",
       "      <th>bmw</th>\n",
       "      <td>1.334498</td>\n",
       "      <td>4.922330</td>\n",
       "      <td>1.058443</td>\n",
       "      <td>1.660244</td>\n",
       "      <td>1.556091</td>\n",
       "      <td>1.081588</td>\n",
       "      <td>1.761422</td>\n",
       "      <td>1.559247</td>\n",
       "      <td>0.722860</td>\n",
       "      <td>1.653302</td>\n",
       "    </tr>\n",
       "    <tr>\n",
       "      <th>acura</th>\n",
       "      <td>1.355908</td>\n",
       "      <td>1.058443</td>\n",
       "      <td>5.275145</td>\n",
       "      <td>1.359020</td>\n",
       "      <td>1.157128</td>\n",
       "      <td>2.767677</td>\n",
       "      <td>1.163635</td>\n",
       "      <td>1.736538</td>\n",
       "      <td>1.180452</td>\n",
       "      <td>1.771804</td>\n",
       "    </tr>\n",
       "    <tr>\n",
       "      <th>mercedes</th>\n",
       "      <td>1.369186</td>\n",
       "      <td>1.660244</td>\n",
       "      <td>1.359020</td>\n",
       "      <td>7.733898</td>\n",
       "      <td>1.521832</td>\n",
       "      <td>1.560652</td>\n",
       "      <td>1.326894</td>\n",
       "      <td>1.393062</td>\n",
       "      <td>1.568413</td>\n",
       "      <td>2.066309</td>\n",
       "    </tr>\n",
       "    <tr>\n",
       "      <th>cadillac</th>\n",
       "      <td>1.482839</td>\n",
       "      <td>1.556091</td>\n",
       "      <td>1.157128</td>\n",
       "      <td>1.521832</td>\n",
       "      <td>14.719355</td>\n",
       "      <td>0.792073</td>\n",
       "      <td>0.937998</td>\n",
       "      <td>1.462793</td>\n",
       "      <td>0.411730</td>\n",
       "      <td>2.359591</td>\n",
       "    </tr>\n",
       "    <tr>\n",
       "      <th>honda</th>\n",
       "      <td>1.394439</td>\n",
       "      <td>1.081588</td>\n",
       "      <td>2.767677</td>\n",
       "      <td>1.560652</td>\n",
       "      <td>0.792073</td>\n",
       "      <td>20.461883</td>\n",
       "      <td>2.106370</td>\n",
       "      <td>1.143832</td>\n",
       "      <td>2.575622</td>\n",
       "      <td>1.561976</td>\n",
       "    </tr>\n",
       "    <tr>\n",
       "      <th>ford</th>\n",
       "      <td>1.192941</td>\n",
       "      <td>1.761422</td>\n",
       "      <td>1.163635</td>\n",
       "      <td>1.326894</td>\n",
       "      <td>0.937998</td>\n",
       "      <td>2.106370</td>\n",
       "      <td>22.367647</td>\n",
       "      <td>0.694647</td>\n",
       "      <td>2.815508</td>\n",
       "      <td>0.682982</td>\n",
       "    </tr>\n",
       "    <tr>\n",
       "      <th>infiniti</th>\n",
       "      <td>1.742484</td>\n",
       "      <td>1.559247</td>\n",
       "      <td>1.736538</td>\n",
       "      <td>1.393062</td>\n",
       "      <td>1.462793</td>\n",
       "      <td>1.143832</td>\n",
       "      <td>0.694647</td>\n",
       "      <td>28.341615</td>\n",
       "      <td>0.000000</td>\n",
       "      <td>4.110616</td>\n",
       "    </tr>\n",
       "    <tr>\n",
       "      <th>volkswagen</th>\n",
       "      <td>1.654545</td>\n",
       "      <td>0.722860</td>\n",
       "      <td>1.180452</td>\n",
       "      <td>1.568413</td>\n",
       "      <td>0.411730</td>\n",
       "      <td>2.575622</td>\n",
       "      <td>2.815508</td>\n",
       "      <td>0.000000</td>\n",
       "      <td>31.909091</td>\n",
       "      <td>0.487162</td>\n",
       "    </tr>\n",
       "    <tr>\n",
       "      <th>lexus</th>\n",
       "      <td>1.444885</td>\n",
       "      <td>1.653302</td>\n",
       "      <td>1.771804</td>\n",
       "      <td>2.066309</td>\n",
       "      <td>2.359591</td>\n",
       "      <td>1.561976</td>\n",
       "      <td>0.682982</td>\n",
       "      <td>4.110616</td>\n",
       "      <td>0.487162</td>\n",
       "      <td>34.832061</td>\n",
       "    </tr>\n",
       "  </tbody>\n",
       "</table>\n",
       "</div>"
      ],
      "text/plain": [
       "                audi       bmw     acura  mercedes   cadillac      honda  \\\n",
       "audi        3.380000  1.334498  1.355908  1.369186   1.482839   1.394439   \n",
       "bmw         1.334498  4.922330  1.058443  1.660244   1.556091   1.081588   \n",
       "acura       1.355908  1.058443  5.275145  1.359020   1.157128   2.767677   \n",
       "mercedes    1.369186  1.660244  1.359020  7.733898   1.521832   1.560652   \n",
       "cadillac    1.482839  1.556091  1.157128  1.521832  14.719355   0.792073   \n",
       "honda       1.394439  1.081588  2.767677  1.560652   0.792073  20.461883   \n",
       "ford        1.192941  1.761422  1.163635  1.326894   0.937998   2.106370   \n",
       "infiniti    1.742484  1.559247  1.736538  1.393062   1.462793   1.143832   \n",
       "volkswagen  1.654545  0.722860  1.180452  1.568413   0.411730   2.575622   \n",
       "lexus       1.444885  1.653302  1.771804  2.066309   2.359591   1.561976   \n",
       "\n",
       "                 ford   infiniti  volkswagen      lexus  \n",
       "audi         1.192941   1.742484    1.654545   1.444885  \n",
       "bmw          1.761422   1.559247    0.722860   1.653302  \n",
       "acura        1.163635   1.736538    1.180452   1.771804  \n",
       "mercedes     1.326894   1.393062    1.568413   2.066309  \n",
       "cadillac     0.937998   1.462793    0.411730   2.359591  \n",
       "honda        2.106370   1.143832    2.575622   1.561976  \n",
       "ford        22.367647   0.694647    2.815508   0.682982  \n",
       "infiniti     0.694647  28.341615    0.000000   4.110616  \n",
       "volkswagen   2.815508   0.000000   31.909091   0.487162  \n",
       "lexus        0.682982   4.110616    0.487162  34.832061  "
      ]
     },
     "execution_count": 294,
     "metadata": {},
     "output_type": "execute_result"
    }
   ],
   "source": [
    "N=len(s_post)\n",
    "df_lift=df_AB.copy()\n",
    "#Lift calculation for top 10 brands\n",
    "for i in range(10):\n",
    "    for j in range(10):\n",
    "        df_lift.iloc[i,j]=N*df_AB.iloc[i,j]/(s_A[i]*s_A[j])\n",
    "df_lift"
   ]
  },
  {
   "cell_type": "code",
   "execution_count": 295,
   "metadata": {
    "scrolled": true
   },
   "outputs": [
    {
     "data": {
      "text/html": [
       "<div>\n",
       "<style scoped>\n",
       "    .dataframe tbody tr th:only-of-type {\n",
       "        vertical-align: middle;\n",
       "    }\n",
       "\n",
       "    .dataframe tbody tr th {\n",
       "        vertical-align: top;\n",
       "    }\n",
       "\n",
       "    .dataframe thead th {\n",
       "        text-align: right;\n",
       "    }\n",
       "</style>\n",
       "<table border=\"1\" class=\"dataframe\">\n",
       "  <thead>\n",
       "    <tr style=\"text-align: right;\">\n",
       "      <th></th>\n",
       "      <th>audi</th>\n",
       "      <th>bmw</th>\n",
       "      <th>acura</th>\n",
       "      <th>mercedes</th>\n",
       "      <th>cadillac</th>\n",
       "      <th>honda</th>\n",
       "      <th>ford</th>\n",
       "      <th>infiniti</th>\n",
       "      <th>volkswagen</th>\n",
       "      <th>lexus</th>\n",
       "    </tr>\n",
       "  </thead>\n",
       "  <tbody>\n",
       "    <tr>\n",
       "      <th>audi</th>\n",
       "      <td>0.000000</td>\n",
       "      <td>0.749345</td>\n",
       "      <td>0.737513</td>\n",
       "      <td>0.730361</td>\n",
       "      <td>0.674382</td>\n",
       "      <td>0.717134</td>\n",
       "      <td>0.838264</td>\n",
       "      <td>0.573893</td>\n",
       "      <td>0.604396</td>\n",
       "      <td>0.692096</td>\n",
       "    </tr>\n",
       "    <tr>\n",
       "      <th>bmw</th>\n",
       "      <td>0.749345</td>\n",
       "      <td>0.000000</td>\n",
       "      <td>0.944784</td>\n",
       "      <td>0.602321</td>\n",
       "      <td>0.642636</td>\n",
       "      <td>0.924566</td>\n",
       "      <td>0.567723</td>\n",
       "      <td>0.641335</td>\n",
       "      <td>1.383394</td>\n",
       "      <td>0.604850</td>\n",
       "    </tr>\n",
       "    <tr>\n",
       "      <th>acura</th>\n",
       "      <td>0.737513</td>\n",
       "      <td>0.944784</td>\n",
       "      <td>0.000000</td>\n",
       "      <td>0.735824</td>\n",
       "      <td>0.864208</td>\n",
       "      <td>0.361314</td>\n",
       "      <td>0.859376</td>\n",
       "      <td>0.575858</td>\n",
       "      <td>0.847133</td>\n",
       "      <td>0.564396</td>\n",
       "    </tr>\n",
       "    <tr>\n",
       "      <th>mercedes</th>\n",
       "      <td>0.730361</td>\n",
       "      <td>0.602321</td>\n",
       "      <td>0.735824</td>\n",
       "      <td>0.000000</td>\n",
       "      <td>0.657103</td>\n",
       "      <td>0.640758</td>\n",
       "      <td>0.753640</td>\n",
       "      <td>0.717843</td>\n",
       "      <td>0.637587</td>\n",
       "      <td>0.483955</td>\n",
       "    </tr>\n",
       "    <tr>\n",
       "      <th>cadillac</th>\n",
       "      <td>0.674382</td>\n",
       "      <td>0.642636</td>\n",
       "      <td>0.864208</td>\n",
       "      <td>0.657103</td>\n",
       "      <td>0.000000</td>\n",
       "      <td>1.262510</td>\n",
       "      <td>1.066100</td>\n",
       "      <td>0.683624</td>\n",
       "      <td>2.428775</td>\n",
       "      <td>0.423802</td>\n",
       "    </tr>\n",
       "    <tr>\n",
       "      <th>honda</th>\n",
       "      <td>0.717134</td>\n",
       "      <td>0.924566</td>\n",
       "      <td>0.361314</td>\n",
       "      <td>0.640758</td>\n",
       "      <td>1.262510</td>\n",
       "      <td>0.000000</td>\n",
       "      <td>0.474750</td>\n",
       "      <td>0.874254</td>\n",
       "      <td>0.388256</td>\n",
       "      <td>0.640215</td>\n",
       "    </tr>\n",
       "    <tr>\n",
       "      <th>ford</th>\n",
       "      <td>0.838264</td>\n",
       "      <td>0.567723</td>\n",
       "      <td>0.859376</td>\n",
       "      <td>0.753640</td>\n",
       "      <td>1.066100</td>\n",
       "      <td>0.474750</td>\n",
       "      <td>0.000000</td>\n",
       "      <td>1.439579</td>\n",
       "      <td>0.355176</td>\n",
       "      <td>1.464168</td>\n",
       "    </tr>\n",
       "    <tr>\n",
       "      <th>infiniti</th>\n",
       "      <td>0.573893</td>\n",
       "      <td>0.641335</td>\n",
       "      <td>0.575858</td>\n",
       "      <td>0.717843</td>\n",
       "      <td>0.683624</td>\n",
       "      <td>0.874254</td>\n",
       "      <td>1.439579</td>\n",
       "      <td>0.000000</td>\n",
       "      <td>inf</td>\n",
       "      <td>0.243273</td>\n",
       "    </tr>\n",
       "    <tr>\n",
       "      <th>volkswagen</th>\n",
       "      <td>0.604396</td>\n",
       "      <td>1.383394</td>\n",
       "      <td>0.847133</td>\n",
       "      <td>0.637587</td>\n",
       "      <td>2.428775</td>\n",
       "      <td>0.388256</td>\n",
       "      <td>0.355176</td>\n",
       "      <td>inf</td>\n",
       "      <td>0.000000</td>\n",
       "      <td>2.052707</td>\n",
       "    </tr>\n",
       "    <tr>\n",
       "      <th>lexus</th>\n",
       "      <td>0.692096</td>\n",
       "      <td>0.604850</td>\n",
       "      <td>0.564396</td>\n",
       "      <td>0.483955</td>\n",
       "      <td>0.423802</td>\n",
       "      <td>0.640215</td>\n",
       "      <td>1.464168</td>\n",
       "      <td>0.243273</td>\n",
       "      <td>2.052707</td>\n",
       "      <td>0.000000</td>\n",
       "    </tr>\n",
       "  </tbody>\n",
       "</table>\n",
       "</div>"
      ],
      "text/plain": [
       "                audi       bmw     acura  mercedes  cadillac     honda  \\\n",
       "audi        0.000000  0.749345  0.737513  0.730361  0.674382  0.717134   \n",
       "bmw         0.749345  0.000000  0.944784  0.602321  0.642636  0.924566   \n",
       "acura       0.737513  0.944784  0.000000  0.735824  0.864208  0.361314   \n",
       "mercedes    0.730361  0.602321  0.735824  0.000000  0.657103  0.640758   \n",
       "cadillac    0.674382  0.642636  0.864208  0.657103  0.000000  1.262510   \n",
       "honda       0.717134  0.924566  0.361314  0.640758  1.262510  0.000000   \n",
       "ford        0.838264  0.567723  0.859376  0.753640  1.066100  0.474750   \n",
       "infiniti    0.573893  0.641335  0.575858  0.717843  0.683624  0.874254   \n",
       "volkswagen  0.604396  1.383394  0.847133  0.637587  2.428775  0.388256   \n",
       "lexus       0.692096  0.604850  0.564396  0.483955  0.423802  0.640215   \n",
       "\n",
       "                ford  infiniti  volkswagen     lexus  \n",
       "audi        0.838264  0.573893    0.604396  0.692096  \n",
       "bmw         0.567723  0.641335    1.383394  0.604850  \n",
       "acura       0.859376  0.575858    0.847133  0.564396  \n",
       "mercedes    0.753640  0.717843    0.637587  0.483955  \n",
       "cadillac    1.066100  0.683624    2.428775  0.423802  \n",
       "honda       0.474750  0.874254    0.388256  0.640215  \n",
       "ford        0.000000  1.439579    0.355176  1.464168  \n",
       "infiniti    1.439579  0.000000         inf  0.243273  \n",
       "volkswagen  0.355176       inf    0.000000  2.052707  \n",
       "lexus       1.464168  0.243273    2.052707  0.000000  "
      ]
     },
     "execution_count": 295,
     "metadata": {},
     "output_type": "execute_result"
    }
   ],
   "source": [
    "#Dissimilarity Matrix\n",
    "df_lift_r=1/df_lift\n",
    "\n",
    "for i in range(10):\n",
    "    df_lift_r.iloc[i,i]=0\n",
    "df_lift_r"
   ]
  },
  {
   "cell_type": "markdown",
   "metadata": {},
   "source": [
    "#### MDS plot code"
   ]
  },
  {
   "cell_type": "code",
   "execution_count": 303,
   "metadata": {},
   "outputs": [],
   "source": [
    "m_lift=df_lift_r.values\n",
    "from sklearn import manifold\n",
    "import matplotlib.pyplot as plt\n",
    "import seaborn\n",
    "import numpy as np\n",
    "import sklearn\n",
    "\n",
    "MDS_cars = sklearn.manifold.MDS(n_components=2, metric=True, dissimilarity='precomputed')\n",
    "\n",
    "#Operations on dissimilarity matrix to read into MDS function\n",
    "dissimilarity = df_lift_r.replace([np.inf, -np.inf], np.nan)\n",
    "dissimilarity.fillna(999, inplace=True)\n",
    "npos = MDS_cars.fit_transform(dissimilarity)\n",
    "\n",
    "seed = np.random.RandomState(seed=99)\n",
    "mds = manifold.MDS(n_components=2, max_iter=20000, random_state=seed,\n",
    "                   dissimilarity=\"precomputed\", n_jobs=1)\n",
    "x_mds= mds.fit(dissimilarity.astype(np.float32)).embedding_\n",
    "x_mds = x_mds[[0,1,2,3,4,5,6,9]]  #removing the outliers"
   ]
  },
  {
   "cell_type": "code",
   "execution_count": 304,
   "metadata": {},
   "outputs": [
    {
     "data": {
      "image/png": "[encoded data removed]",
      "text/plain": [
       "<Figure size 720x576 with 1 Axes>"
      ]
     },
     "metadata": {},
     "output_type": "display_data"
    }
   ],
   "source": [
    "#Here we focussed on only 8 brands since 2 of the brands infinity and volkswagen had infinite distance between them.\n",
    "#These 2 brands were very far off compared to the rest of them hence we have dropped them while plotting the mds plot\n",
    "\n",
    "fig = plt.figure(figsize=(10, 8))\n",
    "x=x_mds[:,0]\n",
    "y=x_mds[:,1]\n",
    "\n",
    "label=df_lift.columns.values\n",
    "plt.scatter(x, y)\n",
    "for i in range(8):\n",
    "    plt.text(x[i]-0.02,y[i]+0.03,label[i])\n",
    "plt.show()"
   ]
  },
  {
   "cell_type": "markdown",
   "metadata": {},
   "source": [
    "## Task B\n",
    "\n"
   ]
  },
  {
   "cell_type": "markdown",
   "metadata": {},
   "source": [
    "#### What insights can you offer brand managers from your analysis in Task A (choose two brands that you can offer the most interesting/useful insights for)? "
   ]
  },
  {
   "cell_type": "markdown",
   "metadata": {},
   "source": [
    "##### Acura\n",
    "The Acura brand manager has valuable insights in this MDS plot. Acura is closest to Audi and Honda, and not really close to any other brand. This is a very unique position to be in – between a luxury brand and a practical brand. Perhaps consumers see Acuras as very well-priced cars, but they also are comfortable and look good, like Audis. \n",
    "\n",
    "A brand manager can exploit this position by making sure all product positioning includes all of Acura’s best features – it’s practical, but also sporty and comfortable. A brand manager can emphasize these traits, as well as market to a wider audience, since they could probably sell to some of Audi’s customers, as well as some of Honda’s. \n",
    "\n",
    "##### Chrysler\n",
    "Chrysler’s positioning is also unique. It is far away from all of the other brands pictures in the MDS plot. A brand manager should figure out what attributes make Chrysler so unique, and exploit the positive attributes associated with it. Perhaps customers like Chrysler just because it is so different than other brands. \n",
    "\n",
    "Chrysler is considered both mainstream and a bit luxury, so it cannot firmly be put into either category. It is also not as well known generally as the other brands in the plot. The brand manager for Chrysler may want to give more brand recognition to its brand, but also continue to position it as unique. \n"
   ]
  },
  {
   "cell_type": "markdown",
   "metadata": {},
   "source": [
    "## Task C: \n",
    "#### What are 5 most frequently mentioned attributes of cars in the discussions? Note that the same attribute may be described by different words – e.g., pick-up and acceleration may both refer to a more general attribute, “performance”. You have to make suitable replacements. Now pick the 5 most frequently mentioned brands. Which attributes are most strongly associated with which of these 5 brands? You DON’T have to do a sentiment analysis for this assignment."
   ]
  },
  {
   "cell_type": "code",
   "execution_count": 305,
   "metadata": {},
   "outputs": [],
   "source": [
    "import pandas as pd\n",
    "import re\n",
    "df_posts=pd.read_csv(r'C:\\Users\\kirti\\Downloads\\MSBA\\Text_Analytics\\Assignment_2\\ta2Q2.csv',header=None)\n",
    "s_post=df_posts[1]\n",
    "s_post=s_post[s_post.notnull()]\n",
    "\n",
    "brands = brands_edited\n",
    "\n",
    "brand_model = pd.read_csv(r'C:\\Users\\kirti\\Downloads\\MSBA\\Text_Analytics\\Assignment_2\\models_new.csv',encoding=file_encoding)\n",
    "#Cleaning basic text\n",
    "s_brand=brand_model['Brand'].map(lambda x:x.lower())\n",
    "s_brand=s_brand.map(lambda x:x.replace('.','').replace(',','').replace('-',' '))\n",
    "s_model=brand_model['Model'].map(lambda x:x.lower())\n",
    "s_model=s_model.map(lambda x:x.replace('?',''))\n",
    "\n",
    "sub_super=pd.read_csv(r'C:\\Users\\kirti\\Downloads\\MSBA\\Text_Analytics\\Assignment_2\\attributes.csv')\n",
    "attribute_dict = dict(zip(sub_super.iloc[:,0], sub_super.iloc[:,1]))"
   ]
  },
  {
   "cell_type": "code",
   "execution_count": 306,
   "metadata": {},
   "outputs": [],
   "source": [
    "import re\n",
    "s_post_converted=s_post.map(lambda x:x.lower())\n",
    "\n",
    "for i,m in enumerate(s_model):\n",
    "    s_post_converted=s_post_converted.map(lambda x:re.sub(str(m), s_brand[i],str(x)))"
   ]
  },
  {
   "cell_type": "code",
   "execution_count": 307,
   "metadata": {},
   "outputs": [],
   "source": [
    "def remove_pun(text):\n",
    "    '''remove all those punctuations\n",
    "    and add a space before and after each brand name'''\n",
    "    pun=['.',',',';',':','\\\\','?','(',')','-','\"','/','\\'s']\n",
    "    for p in pun:\n",
    "        text=text.replace(p,' ')\n",
    "    for brand in brands:\n",
    "        text=text.replace(brand,' '+brand+' ')\n",
    "    return text\n",
    "\n",
    "posts_nopun=s_post_converted.map(lambda x:remove_pun(str(x)))"
   ]
  },
  {
   "cell_type": "code",
   "execution_count": 308,
   "metadata": {},
   "outputs": [],
   "source": [
    "from nltk.corpus import stopwords\n",
    "\n",
    "def remove_stp(text):\n",
    "    '''remove stopwords'''\n",
    "    stp_removed = ' '.join([word for word in text.split() if word not in stopwords.words('english')])\n",
    "    return stp_removed\n",
    "\n",
    "posts_nostp=posts_nopun.map(lambda x:remove_stp(x))"
   ]
  },
  {
   "cell_type": "code",
   "execution_count": 309,
   "metadata": {},
   "outputs": [],
   "source": [
    "# first check if a brand in a text and import re\n",
    "def find_idx(brand, text): \n",
    "    ''' find the indexs of a brand in a post;\n",
    "        check if a brand in a post first,\n",
    "        and need to import re'''\n",
    "    total_count=len(re.findall(brand,text))\n",
    "    token=text.split()\n",
    "    idx_temp = token.index(brand)\n",
    "    idx=idx_temp\n",
    "    idx_list=[idx]\n",
    "    count=1\n",
    "    while idx<len(token) and count<total_count:\n",
    "        idx_temp = token[idx+1:].index(brand)\n",
    "        idx=idx+idx_temp+1\n",
    "        idx_list.append(idx) \n",
    "        count+=1\n",
    "    return idx_list"
   ]
  },
  {
   "cell_type": "code",
   "execution_count": 310,
   "metadata": {},
   "outputs": [],
   "source": [
    "def features(brand,text):\n",
    "    '''find feature list for a brand in a post\n",
    "    using find_idx function to get the indexs of a brand in a post,\n",
    "    and then take +5 and -5 words based on these indexs'''\n",
    "    idx_list=find_idx(brand,text)\n",
    "    token=text.split()\n",
    "    feature_list=[]\n",
    "    for i in idx_list:\n",
    "        feature_list=feature_list+token[max(0,i-5):i]+token[i+1:min(i+6,len(token))]\n",
    "    return feature_list"
   ]
  },
  {
   "cell_type": "code",
   "execution_count": 342,
   "metadata": {},
   "outputs": [],
   "source": [
    "def find_attr(brand, text):\n",
    "    '''find the unique general attribute in a post for a brand\n",
    "       convert the features into general attributes using pre-defined attribute_dict'''\n",
    "    if brand in text:\n",
    "        f=features(brand, text)\n",
    "        attribute=pd.Series([attribute_dict.get(w) for w in f])\n",
    "        attribute=attribute[attribute.notnull()]\n",
    "        result=list(attribute)#unique()) \n",
    "    else:\n",
    "        result=[]\n",
    "    return result"
   ]
  },
  {
   "cell_type": "code",
   "execution_count": 343,
   "metadata": {},
   "outputs": [
    {
     "data": {
      "text/plain": [
       "performance       2432\n",
       "comfort            514\n",
       "sustainability     473\n",
       "cost               462\n",
       "mpg                365\n",
       "safety             241\n",
       "appearance         219\n",
       "emission            27\n",
       "dtype: int64"
      ]
     },
     "execution_count": 343,
     "metadata": {},
     "output_type": "execute_result"
    }
   ],
   "source": [
    "# find the top 5 most frequently mentioned attributes\n",
    "def find_total_attr(text):\n",
    "    '''find any atribute mentioned in a post'''\n",
    "    attribute=pd.Series([attribute_dict.get(w) for w in text.split()])\n",
    "    attribute=attribute[attribute.notnull()]\n",
    "    return list(attribute)\n",
    "\n",
    "total_attr=posts_nostp.map(lambda x:find_total_attr(x)).sum()\n",
    "pd.Series(total_attr).value_counts()"
   ]
  },
  {
   "cell_type": "code",
   "execution_count": 344,
   "metadata": {},
   "outputs": [],
   "source": [
    "# find the top 5 most frequently mentioned attributes associated with a brand\n",
    "# top 5 brand: 'audi', 'bmw', 'acura', 'mercedes', 'cadillac'\n",
    "top_brand=['audi', 'bmw', 'acura', 'mercedes', 'cadillac']\n",
    "attr={}\n",
    "for brand in top_brand:\n",
    "    attr_unique[brand]=posts_nostp.map(lambda x:find_attr(brand,x))"
   ]
  },
  {
   "cell_type": "code",
   "execution_count": 345,
   "metadata": {},
   "outputs": [],
   "source": [
    "s_bmw=pd.Series(attr_unique['bmw'].sum()).value_counts()\n",
    "s_cadillac=pd.Series(attr_unique['cadillac'].sum()).value_counts()\n",
    "s_audi=pd.Series(attr_unique['audi'].sum()).value_counts()\n",
    "s_mercedes=pd.Series(attr_unique['mercedes'].sum()).value_counts()\n",
    "s_acura=pd.Series(attr_unique['acura'].sum()).value_counts()\n",
    "df_attr=pd.concat((s_audi,s_bmw,s_acura,s_mercedes,s_cadillac),axis=1,sort=False)\n",
    "df_attr.columns=top_brand"
   ]
  },
  {
   "cell_type": "code",
   "execution_count": 346,
   "metadata": {},
   "outputs": [
    {
     "data": {
      "text/html": [
       "<div>\n",
       "<style scoped>\n",
       "    .dataframe tbody tr th:only-of-type {\n",
       "        vertical-align: middle;\n",
       "    }\n",
       "\n",
       "    .dataframe tbody tr th {\n",
       "        vertical-align: top;\n",
       "    }\n",
       "\n",
       "    .dataframe thead th {\n",
       "        text-align: right;\n",
       "    }\n",
       "</style>\n",
       "<table border=\"1\" class=\"dataframe\">\n",
       "  <thead>\n",
       "    <tr style=\"text-align: right;\">\n",
       "      <th></th>\n",
       "      <th>audi</th>\n",
       "      <th>bmw</th>\n",
       "      <th>acura</th>\n",
       "      <th>mercedes</th>\n",
       "      <th>cadillac</th>\n",
       "    </tr>\n",
       "  </thead>\n",
       "  <tbody>\n",
       "    <tr>\n",
       "      <th>performance</th>\n",
       "      <td>504</td>\n",
       "      <td>454</td>\n",
       "      <td>277</td>\n",
       "      <td>104.0</td>\n",
       "      <td>81.0</td>\n",
       "    </tr>\n",
       "    <tr>\n",
       "      <th>comfort</th>\n",
       "      <td>92</td>\n",
       "      <td>64</td>\n",
       "      <td>54</td>\n",
       "      <td>64.0</td>\n",
       "      <td>39.0</td>\n",
       "    </tr>\n",
       "    <tr>\n",
       "      <th>cost</th>\n",
       "      <td>83</td>\n",
       "      <td>76</td>\n",
       "      <td>45</td>\n",
       "      <td>41.0</td>\n",
       "      <td>13.0</td>\n",
       "    </tr>\n",
       "    <tr>\n",
       "      <th>sustainability</th>\n",
       "      <td>79</td>\n",
       "      <td>74</td>\n",
       "      <td>24</td>\n",
       "      <td>15.0</td>\n",
       "      <td>12.0</td>\n",
       "    </tr>\n",
       "    <tr>\n",
       "      <th>mpg</th>\n",
       "      <td>71</td>\n",
       "      <td>38</td>\n",
       "      <td>30</td>\n",
       "      <td>26.0</td>\n",
       "      <td>3.0</td>\n",
       "    </tr>\n",
       "    <tr>\n",
       "      <th>safety</th>\n",
       "      <td>39</td>\n",
       "      <td>21</td>\n",
       "      <td>13</td>\n",
       "      <td>4.0</td>\n",
       "      <td>3.0</td>\n",
       "    </tr>\n",
       "    <tr>\n",
       "      <th>appearance</th>\n",
       "      <td>36</td>\n",
       "      <td>28</td>\n",
       "      <td>22</td>\n",
       "      <td>15.0</td>\n",
       "      <td>13.0</td>\n",
       "    </tr>\n",
       "    <tr>\n",
       "      <th>emission</th>\n",
       "      <td>3</td>\n",
       "      <td>4</td>\n",
       "      <td>4</td>\n",
       "      <td>NaN</td>\n",
       "      <td>NaN</td>\n",
       "    </tr>\n",
       "  </tbody>\n",
       "</table>\n",
       "</div>"
      ],
      "text/plain": [
       "                audi  bmw  acura  mercedes  cadillac\n",
       "performance      504  454    277     104.0      81.0\n",
       "comfort           92   64     54      64.0      39.0\n",
       "cost              83   76     45      41.0      13.0\n",
       "sustainability    79   74     24      15.0      12.0\n",
       "mpg               71   38     30      26.0       3.0\n",
       "safety            39   21     13       4.0       3.0\n",
       "appearance        36   28     22      15.0      13.0\n",
       "emission           3    4      4       NaN       NaN"
      ]
     },
     "execution_count": 346,
     "metadata": {},
     "output_type": "execute_result"
    }
   ],
   "source": [
    "#The attribute list\n",
    "df_attr"
   ]
  },
  {
   "cell_type": "markdown",
   "metadata": {},
   "source": [
    "The five most mentioned attributes are performance, comfort, sustainability, cost, and mpg. The five most mentioned brands are BMW, Audi, Acura, Honda, and Chrysler.  \n",
    "\n",
    "We can see the attributes most representative of each brand in the proportional graph below. BMW tends to have comments about its sustainability and emission, more so than other brands.  Audi user comment on its comfort, MPG and safety more than other brands, which is unexpected. Acura owners discuss emission and comfort. Honda owners talk about their cars’ appearance, MPG, and safety, and Chrysler owners tend to mention comfort, appearance, and sustainability.\n",
    "\n",
    "In regards to BMW being known as the “ultimate driving machine”, the data we found does support this to an extent. One of the most talked about attributes for BMWs is performance, which is obviously an indicator for an “ultimate driving machine”.  However, comfort and appearance were talked about at a lower proportion than some of the other brands on the list. These are features that should be associated with an “ultimate” car, even though they do not affect performance. So, we can assume that the BMW is a great driving machine, but it’s not necessarily the best-looking car out there. \n",
    "\n",
    "Moreover, it has a lot of mentions of “sustainability”, which is typically associated with negative words. Some of the words under the cover of sustainability are “maintenance”, “broken”, and “repair”, which does not bode well for the brand. Because sustainability was mentioned so often with BMW, we can assume that many car owners find BMW’s either difficult to repair or the need to repair the car a little bit too often. \n"
   ]
  },
  {
   "cell_type": "markdown",
   "metadata": {},
   "source": [
    "## Task D: \n",
    "#### What advice will you give to a (i) product manager, and (ii) marketing/advertising manager of these brands based on your analysis in Task C? For this assignment, you can assume the sentiment (e.g., that it is positive). "
   ]
  },
  {
   "cell_type": "markdown",
   "metadata": {},
   "source": [
    "The attributes listed above that are associated with each brand are a clear place to start for both the product manger and advertising manager. For the product manager, probably what is most important is the features of the car. So, the product manager should pay attention to what is included in “performance” and “appearance”, because customers are interested in specific features for each of those attributes. \n",
    "\n",
    "For BMW, the product manager should be concerned that it seems that BMW is not being associated with comfort as much as some of the other top mentioned brands. Perhaps, the manager can start researching what is different about BMW and Audi, which has a higher proportion of mentions in relation to comfort. The brands are pretty similar, so the product manager may be able to use some of Audi’s attributes as inspiration for BMW. \n",
    "\n",
    "Sustainability is very high as well, which is an attribute associated with terms like “repairs”, “warranty”, “damage”, etc. The product manager should be concerned that BMWs are breaking down and the customers are noticing. \n",
    "The marketing manager should certainly emphasize the performance, which is mentioned a lot in conjunction with BMW. \n",
    "\n",
    "For Chrysler, the product manager should be concerned that performance and safety are not associated very well with the brand. The product manager should look into improving both of those features, as they are desirable from a customer’s point of view. Sustainability is also high for Chrysler, so the product manager should be concerned that Chrysler owners are often needing repairs for their cars, more than other brands. \n",
    "\n",
    "The advertising manager for Chrysler should look at emphasizing comfort and appearance, which both scored proportionally high. These are great attributes that can be used easily in ads. \n",
    "\n",
    "For Audi, the product manager can look at emission and mpg. Proportionally, Audi has very few mentions of emission associated with the car, which is good, because the “emission” attribute most often corresponds to negative words like “exhaust” and “pollute”. It has very high mentions of mpg, which includes words like “efficient” and “mileage” and is more positive. The product manager should know that Audi customers tend to care about their cars’ effect on the environment, and continue to research and innovate in that area. \n",
    "\n",
    "Safety is also mentioned a lot in conjunction with Audi, so the marketing manager can use this trait in advertising. Customers know that Audi is luxurious and sporty, and so the manager emphasizing that it’s a safe car as well could be a good positioning of the brand. \n",
    "\n",
    "For Honda, appearance and safety are the most mentioned. The product manager can know that safety is very important to Honda owners, and continue to prioritize safety in product design. This is part of what sets the brand apart, so it’s important that product managers know the consumer sentiment. \n",
    "\n",
    "Honda’s marketing managers need to make sure that the appearance of the car is clear, since customers tend to have positive sentiment about appearance, and also emphasize the safety of the vehicle. These two traits can help both the product and marketing managers for Honda. \n",
    "\n",
    "Finally, for Acura, product managers need to be aware that customers are associating the brand with “emission”, which includes words like “carbon”, “pollute”, and “dirty”. The product managers should work on making Acura more environment-friendly, and then the marketing managers should advertise that once it’s fixed. \n",
    "\n",
    "In the meantime though, marketing managers for Acura can emphasize comfort and appearance, which are both mentioned with the brand name often. These are easy associations to show in advertising. \n"
   ]
  },
  {
   "cell_type": "markdown",
   "metadata": {},
   "source": [
    "## Task E: \n",
    "#### Which is the most aspirational brand in your data in terms of people actually wanting to buy or own? Describe your analysis. What are the business implications for this brand?"
   ]
  },
  {
   "cell_type": "markdown",
   "metadata": {},
   "source": [
    "The question requires us to find the most aspirational brands, here we are taking into account aspirational bigrams mentioned below and calculating the lift between them and the brands in each post. The brand with the highest lift indicates a larger aspiration rate. We have taken a limit of +5 and -5 words from the location of the brand to avoid influence by the occurences of other brands on the brand in focus.\n",
    "\n",
    "Calculation of lift: Lift = P(A,B)/(P(A) P(B)) = (n(A,B) N)/ (n(A) * n(B)) \n",
    "In our case, A -> Brand B -> Aspiration words N -> number of posts \n",
    "P(A,B) = n(A,B)/N n(A,B) -> number of posts for each brand which indicates aspiration\n",
    "P(A) ->n(A)/N n(A) -> number of posts which have a brand influence\n",
    "P(B) ->n(B)/N n(B) -> For each brand,the number of brands which indicate aspiration to buy the car!\n",
    "\n",
    "\n",
    "Using this analysis method, we can see that Jaguar has the highest lift for aspirational value, followed by Kia, Ford, Chevrolet and Lexus. This means that customers would like to own or buy a Jaguar the most in comparison to the other brands mentioned. Jaguar clearly is a dream car for quite a few people. When we looked at the attributes that define Jaguar in our posts we found that performance and appearance ranked the highest in the list.\n",
    "Kia ranks second which shows that even though Kia is not as flashy or luxurious as some of the other brands on the list, it is a great brand to own. The attributes which stood out for Kia were performance, cost and comfort.\n",
    "In terms of business implications, Kia can advertise how versatile the brand is. Customers may say that they “want” this brand so often because it is great for a person of any age. It is a safe and affordable car to have for younger customers, but there are also several models which are great cars for customers with families, who may need practicality and space. This gives the advertising team a lot of flexibility and a very large target market. With a larger target market, it is easier to make more sales with mass appeal. \n",
    "Ford and Chevy rank performance as the attribute that defines them the best.Finally,Lexus is best defined with respect to performance and comfort. However, we wish they knew about it's killer sound system!"
   ]
  },
  {
   "cell_type": "code",
   "execution_count": 335,
   "metadata": {},
   "outputs": [],
   "source": [
    "#filterv and filterv2 have the aspirational bigram combinations\n",
    "filterv = ['love','hope','want','wish','dream','desire','crave','buy','purchase','wanted','always']\n",
    "filterv1= ['hope','want','wish','dream','desire','crave','buy','purchase','wanted','always']\n",
    "filterv2 = ['to','have','car','it','of','this']\n",
    "filter_set = set(filterv)\n",
    "filter_set2 = set(filterv2)\n",
    "\n",
    "#function to return the occurence of aspirtaional bigrams for every brand\n",
    "def find(brand,text):\n",
    "    list_bg = []\n",
    "    if(brand in text):\n",
    "        f=features(brand,text)\n",
    "        bg = list(zip(*[f[i:] for i in range(2)]))\n",
    "        for i,j in enumerate(bg):\n",
    "                if(len(j) != 0):\n",
    "                     if((j[0] in filter_set) & (j[1] in filter_set2)):\n",
    "                      #if((j[0] in filter_set)):\n",
    "                         list_bg.append(j)\n",
    "        return len(list_bg)"
   ]
  },
  {
   "cell_type": "code",
   "execution_count": 336,
   "metadata": {},
   "outputs": [],
   "source": [
    "brand_asp = {}\n",
    "for brand in brands:\n",
    "    brand_asp[brand] = posts_nopun.map(lambda x: find(brand,x))"
   ]
  },
  {
   "cell_type": "code",
   "execution_count": 337,
   "metadata": {},
   "outputs": [],
   "source": [
    "#Creating a dataframe to calculate number of posts with aspirations for every brand(asp_brand) \n",
    "#and number of posts with aspirations\n",
    "\n",
    "asp_table = pd.DataFrame(columns = brands)\n",
    "for brand in brands:\n",
    "    asp_table[brand]=brand_asp[brand]\n",
    "asp_table2 = asp_table.fillna(0)\n",
    "\n",
    "asp_entries = asp_table2.sum(axis=1)\n",
    "asp_brand = asp_table2[asp_table2 > 0].count(axis = 0)\n",
    "no_asp = 0\n",
    "for i in asp_entries.iteritems():\n",
    "    if(i[1]>0):\n",
    "        no_asp +=1"
   ]
  },
  {
   "cell_type": "code",
   "execution_count": 176,
   "metadata": {},
   "outputs": [],
   "source": [
    "# asp_table"
   ]
  },
  {
   "cell_type": "code",
   "execution_count": 338,
   "metadata": {},
   "outputs": [],
   "source": [
    "#Calculating number of posts with brands mentioned\n",
    "#Creating a dataframe with required values to calculate lift\n",
    "bc = []\n",
    "aspiration = pd.DataFrame(columns=['brand','asp_brand_count','brand_occurence'])\n",
    "aspiration['brand'] = brands\n",
    "for brand in brands:\n",
    "    count = 0\n",
    "    for i in asp_table[brand].iteritems():\n",
    "        if(i[1] is not None):\n",
    "            if(math.isnan(i[1]) == False):\n",
    "                count = count + 1\n",
    "    bc.append(count)\n",
    "aspiration['asp_brand_count'] = asp_brand.values\n",
    "aspiration['brand_occurence'] = bc"
   ]
  },
  {
   "cell_type": "code",
   "execution_count": 341,
   "metadata": {},
   "outputs": [
    {
     "name": "stdout",
     "output_type": "stream",
     "text": [
      "Top 5 Aspirational brands:\n"
     ]
    },
    {
     "data": {
      "text/html": [
       "<div>\n",
       "<style scoped>\n",
       "    .dataframe tbody tr th:only-of-type {\n",
       "        vertical-align: middle;\n",
       "    }\n",
       "\n",
       "    .dataframe tbody tr th {\n",
       "        vertical-align: top;\n",
       "    }\n",
       "\n",
       "    .dataframe thead th {\n",
       "        text-align: right;\n",
       "    }\n",
       "</style>\n",
       "<table border=\"1\" class=\"dataframe\">\n",
       "  <thead>\n",
       "    <tr style=\"text-align: right;\">\n",
       "      <th></th>\n",
       "      <th>brand</th>\n",
       "      <th>asp_brand_count</th>\n",
       "      <th>brand_occurence</th>\n",
       "      <th>lift</th>\n",
       "    </tr>\n",
       "  </thead>\n",
       "  <tbody>\n",
       "    <tr>\n",
       "      <th>17</th>\n",
       "      <td>jaguar</td>\n",
       "      <td>2</td>\n",
       "      <td>46</td>\n",
       "      <td>4.508893</td>\n",
       "    </tr>\n",
       "    <tr>\n",
       "      <th>18</th>\n",
       "      <td>kia</td>\n",
       "      <td>2</td>\n",
       "      <td>81</td>\n",
       "      <td>2.560606</td>\n",
       "    </tr>\n",
       "    <tr>\n",
       "      <th>11</th>\n",
       "      <td>ford</td>\n",
       "      <td>4</td>\n",
       "      <td>204</td>\n",
       "      <td>2.033422</td>\n",
       "    </tr>\n",
       "    <tr>\n",
       "      <th>8</th>\n",
       "      <td>chevrolet</td>\n",
       "      <td>1</td>\n",
       "      <td>56</td>\n",
       "      <td>1.851867</td>\n",
       "    </tr>\n",
       "    <tr>\n",
       "      <th>20</th>\n",
       "      <td>lexus</td>\n",
       "      <td>2</td>\n",
       "      <td>131</td>\n",
       "      <td>1.583276</td>\n",
       "    </tr>\n",
       "  </tbody>\n",
       "</table>\n",
       "</div>"
      ],
      "text/plain": [
       "        brand  asp_brand_count  brand_occurence      lift\n",
       "17     jaguar                2               46  4.508893\n",
       "18        kia                2               81  2.560606\n",
       "11       ford                4              204  2.033422\n",
       "8   chevrolet                1               56  1.851867\n",
       "20      lexus                2              131  1.583276"
      ]
     },
     "execution_count": 341,
     "metadata": {},
     "output_type": "execute_result"
    }
   ],
   "source": [
    "#Calculate lift for each brand = (n(posts with brand & aspiration)*len(posts))/(n(posts with aspirations)*n(posts with brand))\n",
    "aspiration['lift'] = (aspiration['asp_brand_count']*len(posts_nopun))/(no_asp * aspiration['brand_occurence'])\n",
    "print(\"Top 5 Aspirational brands:\")\n",
    "aspiration.sort_values(by='lift',ascending=False).iloc[:5]"
   ]
  }
 ],
 "metadata": {
  "kernelspec": {
   "display_name": "Python 3",
   "language": "python",
   "name": "python3"
  },
  "language_info": {
   "codemirror_mode": {
    "name": "ipython",
    "version": 3
   },
   "file_extension": ".py",
   "mimetype": "text/x-python",
   "name": "python",
   "nbconvert_exporter": "python",
   "pygments_lexer": "ipython3",
   "version": "3.6.5"
  }
 },
 "nbformat": 4,
 "nbformat_minor": 2
}
